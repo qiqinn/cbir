{
  "cells": [
    {
      "cell_type": "markdown",
      "metadata": {
        "id": "view-in-github",
        "colab_type": "text"
      },
      "source": [
        "<a href=\"https://colab.research.google.com/github/qiqinn/cbir/blob/main/ir_vgg19.ipynb\" target=\"_parent\"><img src=\"https://colab.research.google.com/assets/colab-badge.svg\" alt=\"Open In Colab\"/></a>"
      ]
    },
    {
      "cell_type": "code",
      "execution_count": 1,
      "metadata": {
        "id": "Ib1jRV1SLFiP"
      },
      "outputs": [],
      "source": [
        "import os\n",
        "import numpy as np\n",
        "import tensorflow as tf\n",
        "from sklearn.neighbors import NearestNeighbors\n",
        "from multiprocessing import Pool\n",
        "from skimage.transform import resize\n",
        "import os\n",
        "import skimage.io\n",
        "from multiprocessing import Pool\n",
        "import numpy as np\n",
        "import matplotlib.pyplot as plt\n",
        "from matplotlib import offsetbox\n",
        "from matplotlib.offsetbox import OffsetImage, AnnotationBbox\n",
        "from sklearn import manifold\n",
        "import random"
      ]
    },
    {
      "cell_type": "code",
      "execution_count": 2,
      "metadata": {
        "colab": {
          "base_uri": "https://localhost:8080/"
        },
        "id": "e0UdiJpHLPde",
        "outputId": "562551f3-2e5b-4710-a1c9-c61508b4320a"
      },
      "outputs": [
        {
          "output_type": "stream",
          "name": "stdout",
          "text": [
            "Mounted at /content/drive\n"
          ]
        }
      ],
      "source": [
        "from google.colab import drive\n",
        "drive.mount('/content/drive')"
      ]
    },
    {
      "cell_type": "code",
      "execution_count": null,
      "metadata": {
        "colab": {
          "base_uri": "https://localhost:8080/"
        },
        "id": "rSsrhuw17pNZ",
        "outputId": "5f9a1b59-6032-46dd-cfb9-faa116548dfc"
      },
      "outputs": [
        {
          "name": "stdout",
          "output_type": "stream",
          "text": [
            "Looking in indexes: https://pypi.org/simple, https://us-python.pkg.dev/colab-wheels/public/simple/\n",
            "Requirement already satisfied: scikit-image in /usr/local/lib/python3.7/dist-packages (0.18.3)\n",
            "Requirement already satisfied: PyWavelets>=1.1.1 in /usr/local/lib/python3.7/dist-packages (from scikit-image) (1.3.0)\n",
            "Requirement already satisfied: numpy>=1.16.5 in /usr/local/lib/python3.7/dist-packages (from scikit-image) (1.21.6)\n",
            "Requirement already satisfied: networkx>=2.0 in /usr/local/lib/python3.7/dist-packages (from scikit-image) (2.6.3)\n",
            "Requirement already satisfied: tifffile>=2019.7.26 in /usr/local/lib/python3.7/dist-packages (from scikit-image) (2021.11.2)\n",
            "Requirement already satisfied: imageio>=2.3.0 in /usr/local/lib/python3.7/dist-packages (from scikit-image) (2.9.0)\n",
            "Requirement already satisfied: pillow!=7.1.0,!=7.1.1,>=4.3.0 in /usr/local/lib/python3.7/dist-packages (from scikit-image) (7.1.2)\n",
            "Requirement already satisfied: matplotlib!=3.0.0,>=2.0.0 in /usr/local/lib/python3.7/dist-packages (from scikit-image) (3.2.2)\n",
            "Requirement already satisfied: scipy>=1.0.1 in /usr/local/lib/python3.7/dist-packages (from scikit-image) (1.7.3)\n",
            "Requirement already satisfied: pyparsing!=2.0.4,!=2.1.2,!=2.1.6,>=2.0.1 in /usr/local/lib/python3.7/dist-packages (from matplotlib!=3.0.0,>=2.0.0->scikit-image) (3.0.9)\n",
            "Requirement already satisfied: kiwisolver>=1.0.1 in /usr/local/lib/python3.7/dist-packages (from matplotlib!=3.0.0,>=2.0.0->scikit-image) (1.4.4)\n",
            "Requirement already satisfied: python-dateutil>=2.1 in /usr/local/lib/python3.7/dist-packages (from matplotlib!=3.0.0,>=2.0.0->scikit-image) (2.8.2)\n",
            "Requirement already satisfied: cycler>=0.10 in /usr/local/lib/python3.7/dist-packages (from matplotlib!=3.0.0,>=2.0.0->scikit-image) (0.11.0)\n",
            "Requirement already satisfied: typing-extensions in /usr/local/lib/python3.7/dist-packages (from kiwisolver>=1.0.1->matplotlib!=3.0.0,>=2.0.0->scikit-image) (4.1.1)\n",
            "Requirement already satisfied: six>=1.5 in /usr/local/lib/python3.7/dist-packages (from python-dateutil>=2.1->matplotlib!=3.0.0,>=2.0.0->scikit-image) (1.15.0)\n"
          ]
        }
      ],
      "source": [
        "# !pip install scikit-image "
      ]
    },
    {
      "cell_type": "code",
      "execution_count": 3,
      "metadata": {
        "id": "o5jESFfhLaaU"
      },
      "outputs": [],
      "source": [
        "import numpy as np\n",
        "import matplotlib.pyplot as plt\n",
        "from matplotlib import offsetbox\n",
        "from matplotlib.offsetbox import OffsetImage, AnnotationBbox\n",
        "from sklearn import manifold\n",
        "\n",
        "class CV_plot_utils:\n",
        "  # Plot image\n",
        "  def plot_img(img, range=[0, 255]):\n",
        "      plt.imshow(img, vmin=range[0], vmax=range[1])\n",
        "      plt.xlabel(\"xpixels\")\n",
        "      plt.ylabel(\"ypixels\")\n",
        "      plt.tight_layout()\n",
        "      plt.show()\n",
        "      plt.close()\n",
        "\n",
        "  # Plots images in 2 rows: top row is query, bottom row is answer\n",
        "  def plot_query_retrieval(img_query, imgs_retrieval, outFile):\n",
        "      n_retrieval = len(imgs_retrieval)\n",
        "      fig = plt.figure(figsize=(2*n_retrieval, 4))\n",
        "      fig.suptitle(\"Image Retrieval (k={})\".format(n_retrieval), fontsize=25)\n",
        "\n",
        "      # Plot query image\n",
        "      ax = plt.subplot(2, n_retrieval, 0 + 1)\n",
        "      plt.imshow(img_query)\n",
        "      ax.get_xaxis().set_visible(False)\n",
        "      ax.get_yaxis().set_visible(False)\n",
        "      for axis in ['top', 'bottom', 'left', 'right']:\n",
        "          ax.spines[axis].set_linewidth(4)  # increase border thickness\n",
        "          ax.spines[axis].set_color('black')  # set to black\n",
        "      ax.set_title(\"query\",  fontsize=14)  # set subplot title\n",
        "\n",
        "      # Plot retrieval images\n",
        "      for i, img in enumerate(imgs_retrieval):\n",
        "          ax = plt.subplot(2, n_retrieval, n_retrieval + i + 1)\n",
        "          plt.imshow(img)\n",
        "          ax.get_xaxis().set_visible(False)\n",
        "          ax.get_yaxis().set_visible(False)\n",
        "          for axis in ['top', 'bottom', 'left', 'right']:\n",
        "              ax.spines[axis].set_linewidth(1)  # set border thickness\n",
        "              ax.spines[axis].set_color('black')  # set to black\n",
        "          ax.set_title(\"Rank #%d\" % (i+1), fontsize=14)  # set subplot title\n",
        "\n",
        "      if outFile is None:\n",
        "          plt.show()\n",
        "      else:\n",
        "          plt.savefig(outFile, bbox_inches='tight')\n",
        "      plt.close()\n",
        "\n",
        "  # Plot t-SNE of images\n",
        "  def plot_tsne(X, imgs, outFile):\n",
        "\n",
        "      def imscatter(x, y, images, ax=None, zoom=1.0):\n",
        "          if ax is None:\n",
        "              ax = plt.gca()\n",
        "          x, y = np.atleast_1d(x, y)\n",
        "          artists = []\n",
        "          for x0, y0, img0 in zip(x, y, images):\n",
        "              im = OffsetImage(img0, zoom=zoom)\n",
        "              ab = AnnotationBbox(im, (x0, y0), xycoords='data', frameon=True)\n",
        "              artists.append(ax.add_artist(ab))\n",
        "          ax.update_datalim(np.column_stack([x, y]))\n",
        "          ax.autoscale()\n",
        "          return artists\n",
        "\n",
        "      def plot_embedding(X, imgs, title=None):\n",
        "          x_min, x_max = np.min(X, 0), np.max(X, 0)\n",
        "          X = (X - x_min) / (x_max - x_min)\n",
        "\n",
        "          plt.figure()\n",
        "          ax = plt.subplot(111)\n",
        "          for i in range(X.shape[0]):\n",
        "              plt.text(X[i, 0], X[i, 1], \".\", fontdict={'weight': 'bold', 'size': 9})\n",
        "          if hasattr(offsetbox, 'AnnotationBbox'):\n",
        "              imscatter(X[:,0], X[:,1], imgs, zoom=0.3, ax=ax)\n",
        "\n",
        "          plt.xticks([]), plt.yticks([])\n",
        "          if title is not None:\n",
        "              plt.title(title, fontsize=18)\n",
        "\n",
        "      tsne = manifold.TSNE(n_components=2, init='pca', random_state=0)\n",
        "      X_tsne = tsne.fit_transform(X)\n",
        "      plot_embedding(X_tsne, imgs, \"t-SNE embeddings\")\n",
        "      if outFile is None:\n",
        "          plt.show()\n",
        "      else:\n",
        "          plt.savefig(outFile, bbox_inches='tight')\n",
        "      plt.close()\n",
        "\n",
        "  # Plot image reconstructions\n",
        "  def plot_reconstructions(imgs, imgs_reconstruct, outFile,\n",
        "                          range_imgs=[0, 255],\n",
        "                          range_imgs_reconstruct=[0, 1]):\n",
        "      # Create plot to save\n",
        "      assert len(imgs) == len(imgs_reconstruct)\n",
        "      fig = plt.figure(figsize=(20, 4))\n",
        "      fig.suptitle(\"Image Reconstructions\", fontsize=35)\n",
        "      n = min(len(imgs), 10)\n",
        "      for i in range(n):\n",
        "\n",
        "          # Plot original image\n",
        "          ax = plt.subplot(2, n, i + 1)\n",
        "          plt.imshow(imgs[i],\n",
        "                    vmin=range_imgs[0],\n",
        "                    vmax=range_imgs[1])\n",
        "          ax.get_xaxis().set_visible(False)\n",
        "          ax.get_yaxis().set_visible(False)\n",
        "\n",
        "          # Plot reconstructed image\n",
        "          ax = plt.subplot(2, n, n + i + 1)\n",
        "          plt.imshow(imgs_reconstruct[i],\n",
        "                    vmin=range_imgs_reconstruct[0],\n",
        "                    vmax=range_imgs_reconstruct[1])\n",
        "          ax.get_xaxis().set_visible(False)\n",
        "          ax.get_yaxis().set_visible(False)\n",
        "\n",
        "      if outFile is None:\n",
        "          plt.show()\n",
        "      else:\n",
        "          plt.savefig(outFile, bbox_inches='tight')\n",
        "      plt.close()"
      ]
    },
    {
      "cell_type": "code",
      "execution_count": 4,
      "metadata": {
        "id": "4m2t1LHWMPDb"
      },
      "outputs": [],
      "source": [
        "import os\n",
        "import skimage.io\n",
        "from multiprocessing import Pool\n",
        "\n",
        "class CV_IO_utils:\n",
        "  # Read image\n",
        "  def read_img(filePath):\n",
        "      return skimage.io.imread(filePath, as_gray=False)\n",
        "\n",
        "  # Read images with common extensions from a directory\n",
        "  def read_imgs_dir(dirPath, extensions, parallel=True):\n",
        "      args = [os.path.join(dirPath, filename)\n",
        "              for filename in os.listdir(dirPath)\n",
        "              if any(filename.lower().endswith(ext) for ext in extensions)]\n",
        "      if parallel:\n",
        "          pool = Pool()\n",
        "          imgs = pool.map(CV_IO_utils.read_img, args)\n",
        "          pool.close()\n",
        "          pool.join()\n",
        "      else:\n",
        "          imgs = [read_img(arg) for arg in args]\n",
        "      return imgs\n",
        "\n",
        "  # Save image to file\n",
        "  def save_img(filePath, img):\n",
        "      skimage.io.imsave(filePath, img)"
      ]
    },
    {
      "cell_type": "code",
      "execution_count": 5,
      "metadata": {
        "id": "f_-UDhJbMaBO"
      },
      "outputs": [],
      "source": [
        "from multiprocessing import Pool\n",
        "from skimage.transform import resize\n",
        "\n",
        "# Apply transformations to multiple images\n",
        "class CV_transform_utils:\n",
        "    \n",
        "  def apply_transformer(imgs, transformer, parallel=True):\n",
        "      if parallel:\n",
        "          pool = Pool()\n",
        "          imgs_transform = pool.map(transformer, [img for img in imgs])\n",
        "          pool.close()\n",
        "          pool.join()\n",
        "      else:\n",
        "          imgs_transform = [transformer(img) for img in imgs]\n",
        "      return imgs_transform\n",
        "\n",
        "  # Normalize image data [0, 255] -> [0.0, 1.0]\n",
        "  def normalize_img(img):\n",
        "      return img / 255.\n",
        "\n",
        "  # Resize image\n",
        "  def resize_img(img, shape_resized):\n",
        "      img_resized = resize(img, shape_resized,\n",
        "                          anti_aliasing=True,\n",
        "                          preserve_range=True)\n",
        "      assert img_resized.shape == shape_resized\n",
        "      return img_resized\n",
        "\n",
        "  # Flatten image\n",
        "  def flatten_img(img):\n",
        "      return img.flatten(\"C\")"
      ]
    },
    {
      "cell_type": "code",
      "execution_count": 6,
      "metadata": {
        "id": "SE-fJ_DVMcaO"
      },
      "outputs": [],
      "source": [
        "import random\n",
        "import numpy as np\n",
        "\n",
        "class utils:\n",
        "    # Get split indices\n",
        "  def split(fracs, N, seed):\n",
        "      fracs = [round(frac, 2) for frac in fracs]\n",
        "      if sum(fracs) != 1.00:\n",
        "          raise Exception(\"fracs do not sum to one!\")\n",
        "\n",
        "      # Shuffle ordered indices\n",
        "      indices = list(range(N))\n",
        "      random.Random(seed).shuffle(indices)\n",
        "      indices = np.array(indices, dtype=int)\n",
        "\n",
        "      # Get numbers per group\n",
        "      n_fracs = []\n",
        "      for i in range(len(fracs) - 1):\n",
        "          n_fracs.append(int(max(fracs[i] * N, 0)))\n",
        "      n_fracs.append(int(max(N - sum(n_fracs), 0)))\n",
        "\n",
        "      if sum(n_fracs) != N:\n",
        "          raise Exception(\"n_fracs do not sum to N!\")\n",
        "\n",
        "      # Sample indices\n",
        "      n_selected = 0\n",
        "      indices_fracs = []\n",
        "      for n_frac in n_fracs:\n",
        "          indices_frac = indices[n_selected:n_selected + n_frac]\n",
        "          indices_fracs.append(indices_frac)\n",
        "          n_selected += n_frac\n",
        "\n",
        "      # Check no intersections\n",
        "      for a, indices_frac_A in enumerate(indices_fracs):\n",
        "          for b, indices_frac_B in enumerate(indices_fracs):\n",
        "              if a == b:\n",
        "                  continue\n",
        "              if utils.is_intersect(indices_frac_A, indices_frac_B):\n",
        "                  raise Exception(\"there are intersections!\")\n",
        "\n",
        "      return indices_fracs\n",
        "\n",
        "  # Is there intersection?\n",
        "  def is_intersect(arr1, arr2):\n",
        "      n_intersect = len(np.intersect1d(arr1, arr2))\n",
        "      if n_intersect == 0: return False\n",
        "      else: return True"
      ]
    },
    {
      "cell_type": "code",
      "execution_count": null,
      "metadata": {
        "id": "aQSvwwXnvJIU"
      },
      "outputs": [],
      "source": []
    },
    {
      "cell_type": "code",
      "execution_count": 7,
      "metadata": {
        "colab": {
          "base_uri": "https://localhost:8080/"
        },
        "id": "1bPgX736Me-q",
        "outputId": "99d57e53-d4b9-41c3-ce61-1e173834f0eb"
      },
      "outputs": [
        {
          "output_type": "stream",
          "name": "stdout",
          "text": [
            "Reading train images from '/content/drive/MyDrive/datasets/caltech3/train/'...\n",
            "Reading test images from '/content/drive/MyDrive/datasets/caltech3/test/'...\n",
            "Image shape = (165, 240, 3)\n"
          ]
        }
      ],
      "source": [
        "import os\n",
        "import numpy as np\n",
        "import tensorflow as tf\n",
        "from sklearn.neighbors import NearestNeighbors\n",
        "import copy\n",
        "import sklearn.metrics as metric\n",
        "from statistics import mean\n",
        "import re\n",
        "\n",
        "correct = 0\n",
        "wrong = 0\n",
        "loss_ = []\n",
        "acc_ = []\n",
        "ground_truth = []\n",
        "retrieval_labels = []\n",
        "prec_list = []\n",
        "rec_list = []\n",
        "\n",
        "acc_transfer = []\n",
        "loss_transfer = []\n",
        "prec_transfer = []\n",
        "rec_transfer = []\n",
        "\n",
        "\n",
        "retrieval_label=os.listdir(r\"/content/drive/MyDrive/datasets/caltech3/train\")\n",
        "truth_label=os.listdir(r\"/content/drive/MyDrive/datasets/caltech3/test\")\n",
        "\n",
        "# Apply transformations to all images\n",
        "class ImageTransformer(object):\n",
        "\n",
        "    def __init__(self, shape_resize):\n",
        "        self.shape_resize = shape_resize\n",
        "\n",
        "    def __call__(self, img):\n",
        "        img_transformed = CV_transform_utils.resize_img(img, self.shape_resize)\n",
        "        img_transformed = CV_transform_utils.normalize_img(img_transformed)\n",
        "        return img_transformed\n",
        "\n",
        "transfer = ['Xception', 'VGG16', 'VGG19', 'ResNet50', 'ResNet101', \n",
        "            'ResNet152', 'ResNet50V2', 'ResNet101V2', 'ResNet152V2',\n",
        "            'InceptionV3', 'InceptionResNetV2', 'MobileNet', 'MobileNetV2',\n",
        "            'DenseNet121', 'DenseNet169', 'DenseNet201', 'NASNetMobile',\n",
        "            'NASNetLarge', 'EfficientNetB0', 'EfficientNetB1', 'EfficientNetB2',\n",
        "            'EfficientNetB3', 'EfficientNetB4', 'EfficientNetB5', 'EfficientNetB6',\n",
        "            'EfficientNetB7']\n",
        "\n",
        "\n",
        "\n",
        "# Run mode: (autoencoder -> simpleAE, convAE) or (transfer learning -> vgg19)\n",
        "modelName = \"vgg19\"  # try: \"simpleAE\", \"convAE\", \"vgg19\"\n",
        "trainModel = True\n",
        "parallel = True  # use multicore processing\n",
        "\n",
        "# Make paths\n",
        "dataTrainDir = os.path.join(os.getcwd(), \"/content/drive/MyDrive/datasets/caltech3/train/\")\n",
        "dataTestDir = os.path.join(os.getcwd(), \"/content/drive/MyDrive/datasets/caltech3/test/\")\n",
        "outDir = os.path.join(os.getcwd(), \"output\", modelName)\n",
        "if not os.path.exists(outDir):\n",
        "    os.makedirs(outDir)\n",
        "\n",
        "# Read images\n",
        "extensions = [\".jpg\", \".jpeg\"]\n",
        "print(\"Reading train images from '{}'...\".format(dataTrainDir))\n",
        "imgs_train = CV_IO_utils.read_imgs_dir(dataTrainDir, extensions, parallel=parallel)\n",
        "print(\"Reading test images from '{}'...\".format(dataTestDir))\n",
        "imgs_test = CV_IO_utils.read_imgs_dir(dataTestDir, extensions, parallel=parallel)\n",
        "shape_img = imgs_train[0].shape\n",
        "print(\"Image shape = {}\".format(shape_img))\n",
        "\n",
        "\n"
      ]
    },
    {
      "cell_type": "code",
      "execution_count": null,
      "metadata": {
        "colab": {
          "base_uri": "https://localhost:8080/"
        },
        "id": "aL_4M4SZNcBP",
        "outputId": "28c59a02-786b-4339-c969-606d690dec6a"
      },
      "outputs": [
        {
          "data": {
            "text/plain": [
              "(1360, 2048, 3)"
            ]
          },
          "execution_count": 12,
          "metadata": {},
          "output_type": "execute_result"
        }
      ],
      "source": [
        "imgs_train[0].shape"
      ]
    },
    {
      "cell_type": "code",
      "execution_count": 8,
      "metadata": {
        "id": "ncK1TLKBNMMF"
      },
      "outputs": [],
      "source": [
        "import skimage as sk"
      ]
    },
    {
      "cell_type": "code",
      "execution_count": 9,
      "metadata": {
        "colab": {
          "base_uri": "https://localhost:8080/"
        },
        "id": "9dCom5aAS_wt",
        "outputId": "82070b0c-1b6c-4184-e117-d37df5d3e8e4"
      },
      "outputs": [
        {
          "output_type": "stream",
          "name": "stdout",
          "text": [
            "Loading VGG19 pre-trained model...\n",
            "Downloading data from https://storage.googleapis.com/tensorflow/keras-applications/vgg19/vgg19_weights_tf_dim_ordering_tf_kernels_notop.h5\n",
            "80134624/80134624 [==============================] - 0s 0us/step\n",
            "Model: \"vgg19\"\n",
            "_________________________________________________________________\n",
            " Layer (type)                Output Shape              Param #   \n",
            "=================================================================\n",
            " input_1 (InputLayer)        [(None, 165, 240, 3)]     0         \n",
            "                                                                 \n",
            " block1_conv1 (Conv2D)       (None, 165, 240, 64)      1792      \n",
            "                                                                 \n",
            " block1_conv2 (Conv2D)       (None, 165, 240, 64)      36928     \n",
            "                                                                 \n",
            " block1_pool (MaxPooling2D)  (None, 82, 120, 64)       0         \n",
            "                                                                 \n",
            " block2_conv1 (Conv2D)       (None, 82, 120, 128)      73856     \n",
            "                                                                 \n",
            " block2_conv2 (Conv2D)       (None, 82, 120, 128)      147584    \n",
            "                                                                 \n",
            " block2_pool (MaxPooling2D)  (None, 41, 60, 128)       0         \n",
            "                                                                 \n",
            " block3_conv1 (Conv2D)       (None, 41, 60, 256)       295168    \n",
            "                                                                 \n",
            " block3_conv2 (Conv2D)       (None, 41, 60, 256)       590080    \n",
            "                                                                 \n",
            " block3_conv3 (Conv2D)       (None, 41, 60, 256)       590080    \n",
            "                                                                 \n",
            " block3_conv4 (Conv2D)       (None, 41, 60, 256)       590080    \n",
            "                                                                 \n",
            " block3_pool (MaxPooling2D)  (None, 20, 30, 256)       0         \n",
            "                                                                 \n",
            " block4_conv1 (Conv2D)       (None, 20, 30, 512)       1180160   \n",
            "                                                                 \n",
            " block4_conv2 (Conv2D)       (None, 20, 30, 512)       2359808   \n",
            "                                                                 \n",
            " block4_conv3 (Conv2D)       (None, 20, 30, 512)       2359808   \n",
            "                                                                 \n",
            " block4_conv4 (Conv2D)       (None, 20, 30, 512)       2359808   \n",
            "                                                                 \n",
            " block4_pool (MaxPooling2D)  (None, 10, 15, 512)       0         \n",
            "                                                                 \n",
            " block5_conv1 (Conv2D)       (None, 10, 15, 512)       2359808   \n",
            "                                                                 \n",
            " block5_conv2 (Conv2D)       (None, 10, 15, 512)       2359808   \n",
            "                                                                 \n",
            " block5_conv3 (Conv2D)       (None, 10, 15, 512)       2359808   \n",
            "                                                                 \n",
            " block5_conv4 (Conv2D)       (None, 10, 15, 512)       2359808   \n",
            "                                                                 \n",
            " block5_pool (MaxPooling2D)  (None, 5, 7, 512)         0         \n",
            "                                                                 \n",
            "=================================================================\n",
            "Total params: 20,024,384\n",
            "Trainable params: 20,024,384\n",
            "Non-trainable params: 0\n",
            "_________________________________________________________________\n",
            "input_shape_model = (165, 240, 3)\n",
            "output_shape_model = (5, 7, 512)\n",
            "Applying image transformer to training images...\n",
            "Applying image transformer to test images...\n",
            " -> X_train.shape = (227, 165, 240, 3)\n",
            " -> X_test.shape = (59, 165, 240, 3)\n",
            "Inferencing embeddings using pre-trained model...\n",
            "8/8 [==============================] - 121s 14s/step\n",
            "2/2 [==============================] - 29s 13s/step\n",
            " -> E_train.shape = (227, 5, 7, 512)\n",
            " -> E_test.shape = (59, 5, 7, 512)\n",
            " -> E_train_flatten.shape = (227, 17920)\n",
            " -> E_test_flatten.shape = (59, 17920)\n",
            "Fitting k-nearest-neighbour model on training images...\n",
            "Performing image retrieval on test images...\n"
          ]
        },
        {
          "output_type": "stream",
          "name": "stderr",
          "text": [
            "/usr/local/lib/python3.7/dist-packages/sklearn/metrics/_classification.py:1318: UndefinedMetricWarning: Recall is ill-defined and being set to 0.0 in labels with no true samples. Use `zero_division` parameter to control this behavior.\n",
            "  _warn_prf(average, modifier, msg_start, len(result))\n",
            "/usr/local/lib/python3.7/dist-packages/sklearn/metrics/_classification.py:1318: UndefinedMetricWarning: Recall is ill-defined and being set to 0.0 in labels with no true samples. Use `zero_division` parameter to control this behavior.\n",
            "  _warn_prf(average, modifier, msg_start, len(result))\n",
            "/usr/local/lib/python3.7/dist-packages/sklearn/metrics/_classification.py:1318: UndefinedMetricWarning: Recall is ill-defined and being set to 0.0 in labels with no true samples. Use `zero_division` parameter to control this behavior.\n",
            "  _warn_prf(average, modifier, msg_start, len(result))\n",
            "/usr/local/lib/python3.7/dist-packages/sklearn/metrics/_classification.py:1318: UndefinedMetricWarning: Recall is ill-defined and being set to 0.0 in labels with no true samples. Use `zero_division` parameter to control this behavior.\n",
            "  _warn_prf(average, modifier, msg_start, len(result))\n",
            "/usr/local/lib/python3.7/dist-packages/sklearn/metrics/_classification.py:1318: UndefinedMetricWarning: Recall is ill-defined and being set to 0.0 in labels with no true samples. Use `zero_division` parameter to control this behavior.\n",
            "  _warn_prf(average, modifier, msg_start, len(result))\n",
            "/usr/local/lib/python3.7/dist-packages/sklearn/metrics/_classification.py:1318: UndefinedMetricWarning: Recall is ill-defined and being set to 0.0 in labels with no true samples. Use `zero_division` parameter to control this behavior.\n",
            "  _warn_prf(average, modifier, msg_start, len(result))\n",
            "/usr/local/lib/python3.7/dist-packages/sklearn/metrics/_classification.py:1318: UndefinedMetricWarning: Recall is ill-defined and being set to 0.0 in labels with no true samples. Use `zero_division` parameter to control this behavior.\n",
            "  _warn_prf(average, modifier, msg_start, len(result))\n",
            "/usr/local/lib/python3.7/dist-packages/sklearn/metrics/_classification.py:1318: UndefinedMetricWarning: Recall is ill-defined and being set to 0.0 in labels with no true samples. Use `zero_division` parameter to control this behavior.\n",
            "  _warn_prf(average, modifier, msg_start, len(result))\n",
            "/usr/local/lib/python3.7/dist-packages/sklearn/metrics/_classification.py:1318: UndefinedMetricWarning: Recall is ill-defined and being set to 0.0 in labels with no true samples. Use `zero_division` parameter to control this behavior.\n",
            "  _warn_prf(average, modifier, msg_start, len(result))\n",
            "/usr/local/lib/python3.7/dist-packages/sklearn/metrics/_classification.py:1318: UndefinedMetricWarning: Recall is ill-defined and being set to 0.0 in labels with no true samples. Use `zero_division` parameter to control this behavior.\n",
            "  _warn_prf(average, modifier, msg_start, len(result))\n",
            "/usr/local/lib/python3.7/dist-packages/sklearn/metrics/_classification.py:1318: UndefinedMetricWarning: Recall is ill-defined and being set to 0.0 in labels with no true samples. Use `zero_division` parameter to control this behavior.\n",
            "  _warn_prf(average, modifier, msg_start, len(result))\n",
            "/usr/local/lib/python3.7/dist-packages/sklearn/metrics/_classification.py:1318: UndefinedMetricWarning: Recall is ill-defined and being set to 0.0 in labels with no true samples. Use `zero_division` parameter to control this behavior.\n",
            "  _warn_prf(average, modifier, msg_start, len(result))\n",
            "/usr/local/lib/python3.7/dist-packages/sklearn/metrics/_classification.py:1318: UndefinedMetricWarning: Recall is ill-defined and being set to 0.0 in labels with no true samples. Use `zero_division` parameter to control this behavior.\n",
            "  _warn_prf(average, modifier, msg_start, len(result))\n",
            "/usr/local/lib/python3.7/dist-packages/sklearn/metrics/_classification.py:1318: UndefinedMetricWarning: Recall is ill-defined and being set to 0.0 in labels with no true samples. Use `zero_division` parameter to control this behavior.\n",
            "  _warn_prf(average, modifier, msg_start, len(result))\n",
            "/usr/local/lib/python3.7/dist-packages/sklearn/metrics/_classification.py:1318: UndefinedMetricWarning: Recall is ill-defined and being set to 0.0 in labels with no true samples. Use `zero_division` parameter to control this behavior.\n",
            "  _warn_prf(average, modifier, msg_start, len(result))\n",
            "/usr/local/lib/python3.7/dist-packages/sklearn/metrics/_classification.py:1318: UndefinedMetricWarning: Recall is ill-defined and being set to 0.0 in labels with no true samples. Use `zero_division` parameter to control this behavior.\n",
            "  _warn_prf(average, modifier, msg_start, len(result))\n",
            "/usr/local/lib/python3.7/dist-packages/sklearn/metrics/_classification.py:1318: UndefinedMetricWarning: Recall is ill-defined and being set to 0.0 in labels with no true samples. Use `zero_division` parameter to control this behavior.\n",
            "  _warn_prf(average, modifier, msg_start, len(result))\n",
            "/usr/local/lib/python3.7/dist-packages/sklearn/metrics/_classification.py:1318: UndefinedMetricWarning: Recall is ill-defined and being set to 0.0 in labels with no true samples. Use `zero_division` parameter to control this behavior.\n",
            "  _warn_prf(average, modifier, msg_start, len(result))\n",
            "/usr/local/lib/python3.7/dist-packages/sklearn/metrics/_classification.py:1318: UndefinedMetricWarning: Recall is ill-defined and being set to 0.0 in labels with no true samples. Use `zero_division` parameter to control this behavior.\n",
            "  _warn_prf(average, modifier, msg_start, len(result))\n",
            "/usr/local/lib/python3.7/dist-packages/sklearn/metrics/_classification.py:1318: UndefinedMetricWarning: Recall is ill-defined and being set to 0.0 in labels with no true samples. Use `zero_division` parameter to control this behavior.\n",
            "  _warn_prf(average, modifier, msg_start, len(result))\n",
            "/usr/local/lib/python3.7/dist-packages/sklearn/metrics/_classification.py:1318: UndefinedMetricWarning: Recall is ill-defined and being set to 0.0 in labels with no true samples. Use `zero_division` parameter to control this behavior.\n",
            "  _warn_prf(average, modifier, msg_start, len(result))\n",
            "/usr/local/lib/python3.7/dist-packages/sklearn/metrics/_classification.py:1318: UndefinedMetricWarning: Recall is ill-defined and being set to 0.0 in labels with no true samples. Use `zero_division` parameter to control this behavior.\n",
            "  _warn_prf(average, modifier, msg_start, len(result))\n",
            "/usr/local/lib/python3.7/dist-packages/sklearn/metrics/_classification.py:1318: UndefinedMetricWarning: Recall is ill-defined and being set to 0.0 in labels with no true samples. Use `zero_division` parameter to control this behavior.\n",
            "  _warn_prf(average, modifier, msg_start, len(result))\n",
            "/usr/local/lib/python3.7/dist-packages/sklearn/metrics/_classification.py:1318: UndefinedMetricWarning: Recall is ill-defined and being set to 0.0 in labels with no true samples. Use `zero_division` parameter to control this behavior.\n",
            "  _warn_prf(average, modifier, msg_start, len(result))\n",
            "/usr/local/lib/python3.7/dist-packages/sklearn/metrics/_classification.py:1318: UndefinedMetricWarning: Recall is ill-defined and being set to 0.0 in labels with no true samples. Use `zero_division` parameter to control this behavior.\n",
            "  _warn_prf(average, modifier, msg_start, len(result))\n",
            "/usr/local/lib/python3.7/dist-packages/sklearn/metrics/_classification.py:1318: UndefinedMetricWarning: Recall is ill-defined and being set to 0.0 in labels with no true samples. Use `zero_division` parameter to control this behavior.\n",
            "  _warn_prf(average, modifier, msg_start, len(result))\n",
            "/usr/local/lib/python3.7/dist-packages/sklearn/metrics/_classification.py:1318: UndefinedMetricWarning: Recall is ill-defined and being set to 0.0 in labels with no true samples. Use `zero_division` parameter to control this behavior.\n",
            "  _warn_prf(average, modifier, msg_start, len(result))\n",
            "/usr/local/lib/python3.7/dist-packages/sklearn/metrics/_classification.py:1318: UndefinedMetricWarning: Recall is ill-defined and being set to 0.0 in labels with no true samples. Use `zero_division` parameter to control this behavior.\n",
            "  _warn_prf(average, modifier, msg_start, len(result))\n",
            "/usr/local/lib/python3.7/dist-packages/sklearn/metrics/_classification.py:1318: UndefinedMetricWarning: Recall is ill-defined and being set to 0.0 in labels with no true samples. Use `zero_division` parameter to control this behavior.\n",
            "  _warn_prf(average, modifier, msg_start, len(result))\n",
            "/usr/local/lib/python3.7/dist-packages/sklearn/metrics/_classification.py:1318: UndefinedMetricWarning: Recall is ill-defined and being set to 0.0 in labels with no true samples. Use `zero_division` parameter to control this behavior.\n",
            "  _warn_prf(average, modifier, msg_start, len(result))\n",
            "/usr/local/lib/python3.7/dist-packages/sklearn/metrics/_classification.py:1318: UndefinedMetricWarning: Recall is ill-defined and being set to 0.0 in labels with no true samples. Use `zero_division` parameter to control this behavior.\n",
            "  _warn_prf(average, modifier, msg_start, len(result))\n",
            "/usr/local/lib/python3.7/dist-packages/sklearn/metrics/_classification.py:1318: UndefinedMetricWarning: Recall is ill-defined and being set to 0.0 in labels with no true samples. Use `zero_division` parameter to control this behavior.\n",
            "  _warn_prf(average, modifier, msg_start, len(result))\n",
            "/usr/local/lib/python3.7/dist-packages/sklearn/metrics/_classification.py:1318: UndefinedMetricWarning: Recall is ill-defined and being set to 0.0 in labels with no true samples. Use `zero_division` parameter to control this behavior.\n",
            "  _warn_prf(average, modifier, msg_start, len(result))\n",
            "/usr/local/lib/python3.7/dist-packages/sklearn/metrics/_classification.py:1318: UndefinedMetricWarning: Recall is ill-defined and being set to 0.0 in labels with no true samples. Use `zero_division` parameter to control this behavior.\n",
            "  _warn_prf(average, modifier, msg_start, len(result))\n",
            "/usr/local/lib/python3.7/dist-packages/sklearn/metrics/_classification.py:1318: UndefinedMetricWarning: Recall is ill-defined and being set to 0.0 in labels with no true samples. Use `zero_division` parameter to control this behavior.\n",
            "  _warn_prf(average, modifier, msg_start, len(result))\n"
          ]
        },
        {
          "output_type": "stream",
          "name": "stdout",
          "text": [
            "retrieval accuracy: 1.6677966101694914\n",
            "retrieval loss: 0.33220338983050846\n",
            "retrieval precision: 1.0\n",
            "retrieval recall: 0.8338983050847457\n"
          ]
        }
      ],
      "source": [
        "\n",
        "print(\"Loading VGG19 pre-trained model...\")\n",
        "model = tf.keras.applications.VGG19(weights='imagenet', include_top=False,\n",
        "                                            input_shape=shape_img)\n",
        "model.summary()\n",
        "\n",
        "shape_img_resize = tuple([int(x) for x in model.input.shape[1:]])\n",
        "input_shape_model = tuple([int(x) for x in model.input.shape[1:]])\n",
        "output_shape_model = tuple([int(x) for x in model.output.shape[1:]])\n",
        "n_epochs = None\n",
        "    # Build models\n",
        "\n",
        "\n",
        "\n",
        "\n",
        "# Print some model info\n",
        "print(\"input_shape_model = {}\".format(input_shape_model))\n",
        "print(\"output_shape_model = {}\".format(output_shape_model))\n",
        "\n",
        "\n",
        "transformer = ImageTransformer(shape_img_resize)\n",
        "print(\"Applying image transformer to training images...\")\n",
        "imgs_train_transformed = CV_transform_utils.apply_transformer(imgs_train, transformer, parallel=parallel)\n",
        "print(\"Applying image transformer to test images...\")\n",
        "imgs_test_transformed = CV_transform_utils.apply_transformer(imgs_test, transformer, parallel=parallel)\n",
        "\n",
        "# Convert images to numpy array\n",
        "X_train = np.array(imgs_train_transformed).reshape((-1,) + input_shape_model)\n",
        "X_test = np.array(imgs_test_transformed).reshape((-1,) + input_shape_model)\n",
        "print(\" -> X_train.shape = {}\".format(X_train.shape))\n",
        "print(\" -> X_test.shape = {}\".format(X_test.shape))\n",
        "\n",
        "\n",
        "\n",
        "\n",
        "# Create embeddings using model\n",
        "print(\"Inferencing embeddings using pre-trained model...\")\n",
        "E_train = model.predict(X_train)\n",
        "E_train_flatten = E_train.reshape((-1, np.prod(output_shape_model)))\n",
        "E_test = model.predict(X_test)\n",
        "E_test_flatten = E_test.reshape((-1, np.prod(output_shape_model)))\n",
        "print(\" -> E_train.shape = {}\".format(E_train.shape))\n",
        "print(\" -> E_test.shape = {}\".format(E_test.shape))\n",
        "print(\" -> E_train_flatten.shape = {}\".format(E_train_flatten.shape))\n",
        "print(\" -> E_test_flatten.shape = {}\".format(E_test_flatten.shape))\n",
        "\n",
        "\n",
        "# Fit kNN model on training images\n",
        "print(\"Fitting k-nearest-neighbour model on training images...\")\n",
        "knn = NearestNeighbors(n_neighbors=10, metric=\"cosine\")\n",
        "knn.fit(E_train_flatten)\n",
        "\n",
        "# Perform image retrieval on test images\n",
        "print(\"Performing image retrieval on test images...\")\n",
        "for i, emb_flatten in enumerate(E_test_flatten):\n",
        "    _, indices = knn.kneighbors([emb_flatten]) # find k nearest train neighbours\n",
        "    img_query = imgs_test[i] # query image\n",
        "    imgs_retrieval = [imgs_train[idx] for idx in indices.flatten()] # retrieval images\n",
        "    for x in indices.flatten():\n",
        "      if truth_label[i][:3] in retrieval_label[x]:\n",
        "        correct = correct + 1\n",
        "      else:\n",
        "        wrong = wrong + 1\n",
        "    loss_.append((wrong/5))\n",
        "    acc_.append((correct/5))\n",
        "    correct = 0\n",
        "    wrong = 0\n",
        "\n",
        "    # Precision Recall\n",
        "    for x in indices.flatten():\n",
        "      ground_truth.append(re.split(\"(\\d.*)\", truth_label[i])[0])\n",
        "      retrieval_labels.append(re.split(\"(\\d.*)\", retrieval_label[x])[0])\n",
        "    \n",
        "    rec_list.append(metric.recall_score(ground_truth, retrieval_labels, average='weighted'))\n",
        "    prec_list.append(metric.precision_score(ground_truth, retrieval_labels, average='weighted'))\n",
        "\n",
        "    ground_truth.clear()\n",
        "    retrieval_labels.clear()\n",
        "\n",
        "    outFile = os.path.join(outDir, \"{}_retrieval_{}.png\".format(modelName, i))\n",
        "    CV_plot_utils.plot_query_retrieval(img_query, imgs_retrieval, outFile)\n",
        "\n",
        "print(\"retrieval accuracy: {}\".format(mean(acc_)))\n",
        "print(\"retrieval loss: {}\".format(mean(loss_)))\n",
        "print(\"retrieval precision: {}\".format(mean(prec_list)))\n",
        "print(\"retrieval recall: {}\".format(mean(rec_list)))"
      ]
    },
    {
      "cell_type": "code",
      "execution_count": 10,
      "metadata": {
        "id": "AXB5idLwNl0B",
        "colab": {
          "base_uri": "https://localhost:8080/"
        },
        "outputId": "d6060b2e-8e96-4492-e926-0e3d60ba0b0f"
      },
      "outputs": [
        {
          "output_type": "stream",
          "name": "stderr",
          "text": [
            "WARNING:tensorflow:Compiled the loaded model, but the compiled metrics have yet to be built. `model.compile_metrics` will be empty until you train or evaluate the model.\n"
          ]
        }
      ],
      "source": [
        "model.save('/content/drive/MyDrive/VII/tkc/IR11.h5')"
      ]
    },
    {
      "cell_type": "code",
      "execution_count": 11,
      "metadata": {
        "id": "xEhKFaPHHMgn"
      },
      "outputs": [],
      "source": [
        "model.save_weights('/content/drive/MyDrive/VII/tkc/model11_weights.h5')"
      ]
    },
    {
      "cell_type": "code",
      "execution_count": 12,
      "metadata": {
        "id": "dOlAgl4ze0wf",
        "colab": {
          "base_uri": "https://localhost:8080/"
        },
        "outputId": "dba9c4e6-5be5-4190-b64d-03437b4f5d62"
      },
      "outputs": [
        {
          "output_type": "stream",
          "name": "stdout",
          "text": [
            "retrieval accuracy : 1.6677966101694914\n",
            "retrieval loss : 0.33220338983050846\n",
            "retrieval precision : 1.0\n",
            "retrieval recall : 0.8338983050847457\n"
          ]
        }
      ],
      "source": [
        "from statistics import mean\n",
        "\n",
        "print(\"retrieval accuracy :\", mean(acc_))\n",
        "print(\"retrieval loss :\", mean(loss_))\n",
        "print(\"retrieval precision :\", mean(prec_list))\n",
        "print(\"retrieval recall :\", mean(rec_list))"
      ]
    }
  ],
  "metadata": {
    "colab": {
      "collapsed_sections": [],
      "provenance": [],
      "include_colab_link": true
    },
    "kernelspec": {
      "display_name": "Python 3",
      "name": "python3"
    },
    "language_info": {
      "name": "python"
    }
  },
  "nbformat": 4,
  "nbformat_minor": 0
}